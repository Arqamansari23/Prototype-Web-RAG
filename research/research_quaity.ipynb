{
 "cells": [
  {
   "cell_type": "code",
   "execution_count": 6,
   "id": "7d61fd87",
   "metadata": {},
   "outputs": [
    {
     "name": "stdout",
     "output_type": "stream",
     "text": [
      "\n",
      "✅ Total documents fetched: 1\n",
      "\n",
      "1. https://www.genetechsolutions.com/\n"
     ]
    }
   ],
   "source": [
    "from langchain_community.document_loaders import RecursiveUrlLoader\n",
    "from bs4 import BeautifulSoup\n",
    "\n",
    "# Create a simple extractor function\n",
    "def bs4_extractor(html: str) -> str:\n",
    "    soup = BeautifulSoup(html, \"html.parser\")\n",
    "    return soup.get_text()\n",
    "\n",
    "# Configure the loader\n",
    "loader = RecursiveUrlLoader(\n",
    "    url=\"https://www.genetechsolutions.com/\",\n",
    "    max_depth=1,\n",
    "    extractor=bs4_extractor,\n",
    "    use_async=False,  # Easier to debug\n",
    "    timeout=10\n",
    ")\n",
    "\n",
    "# Load documents\n",
    "documents = loader.load()\n",
    "\n",
    "# Print results\n",
    "print(f\"\\n✅ Total documents fetched: {len(documents)}\\n\")\n",
    "for i, doc in enumerate(documents, start=1):\n",
    "    print(f\"{i}. {doc.metadata['source']}\")"
   ]
  },
  {
   "cell_type": "code",
   "execution_count": null,
   "id": "c03fd3d3",
   "metadata": {},
   "outputs": [
    {
     "name": "stdout",
     "output_type": "stream",
     "text": [
      "\n",
      "✅ Total documents fetched: 1\n",
      "📄 Scraped data saved to: research/text.txt\n"
     ]
    }
   ],
   "source": [
    "from langchain_community.document_loaders import RecursiveUrlLoader\n",
    "from bs4 import BeautifulSoup\n",
    "import os\n",
    "\n",
    "# Create output directory if it doesn't exist\n",
    "os.makedirs(\"research\", exist_ok=True)\n",
    "\n",
    "# Define extractor function using BeautifulSoup\n",
    "def bs4_extractor(html: str) -> str:\n",
    "    soup = BeautifulSoup(html, \"html.parser\")\n",
    "    return soup.get_text()\n",
    "\n",
    "# Configure the recursive URL loader\n",
    "loader = RecursiveUrlLoader(\n",
    "    url=\"https://www.genetechsolutions.com/testimonials\",\n",
    "    max_depth=1,\n",
    "    extractor=bs4_extractor,\n",
    "    use_async=False,  # Set False for easier debugging\n",
    "    timeout=10\n",
    ")\n",
    "\n",
    "# Load the documents from the website\n",
    "documents = loader.load()\n",
    "\n",
    "# Save the scraped text content to research/text.txt\n",
    "output_path = \"research/text.txt\"\n",
    "with open(output_path, \"w\", encoding=\"utf-8\") as f:\n",
    "    for i, doc in enumerate(documents, start=1):\n",
    "        source = doc.metadata.get(\"source\", \"Unknown source\")\n",
    "        content = doc.page_content.strip()\n",
    "        f.write(f\"--- Document {i} ---\\n\")\n",
    "        f.write(f\"Source: {source}\\n\\n\")\n",
    "        f.write(content + \"\\n\\n\")\n",
    "\n",
    "print(f\"\\n✅ Total documents fetched: {len(documents)}\")\n",
    "print(f\"📄 Scraped data saved to: {output_path}\")\n"
   ]
  },
  {
   "cell_type": "code",
   "execution_count": null,
   "id": "c98981f7",
   "metadata": {},
   "outputs": [],
   "source": [
    "https://www.genetechsolutions.com/jobs"
   ]
  },
  {
   "cell_type": "code",
   "execution_count": 5,
   "id": "ad84b394",
   "metadata": {},
   "outputs": [
    {
     "name": "stdout",
     "output_type": "stream",
     "text": [
      "✅ Content saved from rendered page.\n"
     ]
    }
   ],
   "source": [
    "from selenium import webdriver\n",
    "from bs4 import BeautifulSoup\n",
    "import time\n",
    "import os\n",
    "\n",
    "# Set up headless Chrome browser\n",
    "options = webdriver.ChromeOptions()\n",
    "options.add_argument('--headless')\n",
    "driver = webdriver.Chrome(options=options)\n",
    "\n",
    "# Visit the jobs page\n",
    "driver.get(\"https://www.genetechsolutions.com/jobs\")\n",
    "time.sleep(5)  # wait for JavaScript to load fully\n",
    "\n",
    "# Extract the page source after rendering\n",
    "html = driver.page_source\n",
    "driver.quit()\n",
    "\n",
    "# Parse and extract text\n",
    "soup = BeautifulSoup(html, \"html.parser\")\n",
    "text = soup.get_text()\n",
    "\n",
    "# Save the text to a file\n",
    "os.makedirs(\"research\", exist_ok=True)\n",
    "with open(\"research/text.txt\", \"w\", encoding=\"utf-8\") as f:\n",
    "    f.write(text.strip())\n",
    "\n",
    "print(\"✅ Content saved from rendered page.\")\n"
   ]
  },
  {
   "cell_type": "code",
   "execution_count": null,
   "id": "8b0110dc",
   "metadata": {},
   "outputs": [],
   "source": []
  }
 ],
 "metadata": {
  "kernelspec": {
   "display_name": "App",
   "language": "python",
   "name": "python3"
  },
  "language_info": {
   "codemirror_mode": {
    "name": "ipython",
    "version": 3
   },
   "file_extension": ".py",
   "mimetype": "text/x-python",
   "name": "python",
   "nbconvert_exporter": "python",
   "pygments_lexer": "ipython3",
   "version": "3.13.2"
  }
 },
 "nbformat": 4,
 "nbformat_minor": 5
}
